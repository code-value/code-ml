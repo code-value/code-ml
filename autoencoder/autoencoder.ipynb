{
  "nbformat": 4,
  "nbformat_minor": 0,
  "metadata": {
    "colab": {
      "name": "autoencoder.ipynb",
      "provenance": []
    },
    "kernelspec": {
      "name": "python3",
      "display_name": "Python 3"
    },
    "language_info": {
      "name": "python"
    }
  },
  "cells": [
    {
      "cell_type": "code",
      "metadata": {
        "id": "SQPHC4uyrizc"
      },
      "source": [
        "#@title importing libreries\n",
        "import pandas as pd \n",
        "from keras.layers import Dense,Conv2D,MaxPooling2D,UpSampling2D\n",
        "from keras import Input, Model\n",
        "from keras.datasets import mnist\n",
        "import numpy as np\n",
        "import matplotlib.pyplot as plt\n",
        "from sklearn.preprocessing import StandardScaler\n",
        "from tensorflow.keras.optimizers import SGD\n"
      ],
      "execution_count": 17,
      "outputs": []
    },
    {
      "cell_type": "code",
      "metadata": {
        "colab": {
          "base_uri": "https://localhost:8080/"
        },
        "id": "pXFUPSfCv7Bx",
        "outputId": "8cb08499-37e8-42c8-c5b1-693655219b8d"
      },
      "source": [
        "df = pd.read_csv('sample_data/california_housing_test.csv')\n",
        "scaler = StandardScaler()\n",
        "scaler.fit(df)\n",
        "df = scaler.transform(df)\n",
        "df = pd.DataFrame(df)\n",
        "df.info()"
      ],
      "execution_count": 18,
      "outputs": [
        {
          "output_type": "stream",
          "name": "stdout",
          "text": [
            "<class 'pandas.core.frame.DataFrame'>\n",
            "RangeIndex: 3000 entries, 0 to 2999\n",
            "Data columns (total 9 columns):\n",
            " #   Column  Non-Null Count  Dtype  \n",
            "---  ------  --------------  -----  \n",
            " 0   0       3000 non-null   float64\n",
            " 1   1       3000 non-null   float64\n",
            " 2   2       3000 non-null   float64\n",
            " 3   3       3000 non-null   float64\n",
            " 4   4       3000 non-null   float64\n",
            " 5   5       3000 non-null   float64\n",
            " 6   6       3000 non-null   float64\n",
            " 7   7       3000 non-null   float64\n",
            " 8   8       3000 non-null   float64\n",
            "dtypes: float64(9)\n",
            "memory usage: 211.1 KB\n"
          ]
        }
      ]
    },
    {
      "cell_type": "code",
      "metadata": {
        "id": "bBVC-AlLwJp0"
      },
      "source": [
        "orginal_size = df.shape[1]"
      ],
      "execution_count": 19,
      "outputs": []
    },
    {
      "cell_type": "code",
      "metadata": {
        "colab": {
          "base_uri": "https://localhost:8080/"
        },
        "id": "TqkGsp7gsB52",
        "outputId": "88a57990-a535-4382-a19a-a472d73100e9"
      },
      "source": [
        "input_df = Input(shape=(orginal_size,))\n",
        "\n",
        "encoded = Dense(7, activation='relu', kernel_initializer='glorot_uniform')(input_df)\n",
        "\n",
        "#Decodificar\n",
        "decoded = Dense(orginal_size, activation='relu', kernel_initializer='glorot_uniform')(encoded)\n",
        "\n",
        "autoencoder = Model(input_df, decoded)\n",
        "\n",
        "#Si quieremos utilizar la primera versión comprimida (que es lo más lógico)\n",
        "encoder = Model(input_df, encoded)\n",
        "\n",
        "opt = SGD(lr=0.01, momentum=0.9,decay=0.01)\n",
        "\n",
        "#Modelo a seguir\n",
        "autoencoder.compile(optimizer=opt, loss='mean_squared_error')\n",
        "autoencoder.summary()"
      ],
      "execution_count": 22,
      "outputs": [
        {
          "output_type": "stream",
          "name": "stdout",
          "text": [
            "Model: \"model_8\"\n",
            "_________________________________________________________________\n",
            "Layer (type)                 Output Shape              Param #   \n",
            "=================================================================\n",
            "input_5 (InputLayer)         [(None, 9)]               0         \n",
            "_________________________________________________________________\n",
            "dense_8 (Dense)              (None, 7)                 70        \n",
            "_________________________________________________________________\n",
            "dense_9 (Dense)              (None, 9)                 72        \n",
            "=================================================================\n",
            "Total params: 142\n",
            "Trainable params: 142\n",
            "Non-trainable params: 0\n",
            "_________________________________________________________________\n"
          ]
        },
        {
          "output_type": "stream",
          "name": "stderr",
          "text": [
            "/usr/local/lib/python3.7/dist-packages/keras/optimizer_v2/optimizer_v2.py:356: UserWarning: The `lr` argument is deprecated, use `learning_rate` instead.\n",
            "  \"The `lr` argument is deprecated, use `learning_rate` instead.\")\n"
          ]
        }
      ]
    },
    {
      "cell_type": "code",
      "metadata": {
        "colab": {
          "base_uri": "https://localhost:8080/"
        },
        "id": "twNlFUSDxtLk",
        "outputId": "50f7c374-a48c-49c5-ff06-d36c9764b8c4"
      },
      "source": [
        "autoencoder.fit(df, df, batch_size=8, epochs=128, verbose=1)"
      ],
      "execution_count": null,
      "outputs": [
        {
          "output_type": "stream",
          "name": "stdout",
          "text": [
            "Epoch 1/128\n",
            "375/375 [==============================] - 1s 2ms/step - loss: 0.3939\n",
            "Epoch 2/128\n",
            "375/375 [==============================] - 1s 2ms/step - loss: 0.3937\n",
            "Epoch 3/128\n",
            "375/375 [==============================] - 1s 2ms/step - loss: 0.3934\n",
            "Epoch 4/128\n",
            "375/375 [==============================] - 1s 2ms/step - loss: 0.3931\n",
            "Epoch 5/128\n",
            "375/375 [==============================] - 1s 2ms/step - loss: 0.3929\n",
            "Epoch 6/128\n",
            "375/375 [==============================] - 1s 3ms/step - loss: 0.3927\n",
            "Epoch 7/128\n",
            "375/375 [==============================] - 1s 2ms/step - loss: 0.3924\n",
            "Epoch 8/128\n",
            "375/375 [==============================] - 1s 2ms/step - loss: 0.3922\n",
            "Epoch 9/128\n",
            "375/375 [==============================] - 1s 3ms/step - loss: 0.3920\n",
            "Epoch 10/128\n",
            "375/375 [==============================] - 1s 2ms/step - loss: 0.3918\n",
            "Epoch 11/128\n",
            "375/375 [==============================] - 1s 3ms/step - loss: 0.3916\n",
            "Epoch 12/128\n",
            "375/375 [==============================] - 1s 2ms/step - loss: 0.3914\n",
            "Epoch 13/128\n",
            "375/375 [==============================] - 1s 2ms/step - loss: 0.3913\n",
            "Epoch 14/128\n",
            "375/375 [==============================] - 1s 1ms/step - loss: 0.3911\n",
            "Epoch 15/128\n",
            "375/375 [==============================] - 1s 2ms/step - loss: 0.3909\n",
            "Epoch 16/128\n",
            "375/375 [==============================] - 1s 3ms/step - loss: 0.3908\n",
            "Epoch 17/128\n",
            "375/375 [==============================] - 1s 2ms/step - loss: 0.3906\n",
            "Epoch 18/128\n",
            "375/375 [==============================] - 1s 2ms/step - loss: 0.3904\n",
            "Epoch 19/128\n",
            "375/375 [==============================] - 1s 1ms/step - loss: 0.3903\n",
            "Epoch 20/128\n",
            "375/375 [==============================] - 1s 1ms/step - loss: 0.3901\n",
            "Epoch 21/128\n",
            "375/375 [==============================] - 1s 1ms/step - loss: 0.3900\n",
            "Epoch 22/128\n",
            "375/375 [==============================] - 1s 2ms/step - loss: 0.3899\n",
            "Epoch 23/128\n",
            "375/375 [==============================] - 1s 2ms/step - loss: 0.3897\n",
            "Epoch 24/128\n",
            "375/375 [==============================] - 1s 2ms/step - loss: 0.3896\n",
            "Epoch 25/128\n",
            "375/375 [==============================] - 1s 2ms/step - loss: 0.3895\n",
            "Epoch 26/128\n",
            "375/375 [==============================] - 1s 2ms/step - loss: 0.3893\n",
            "Epoch 27/128\n",
            "375/375 [==============================] - 1s 2ms/step - loss: 0.3892\n",
            "Epoch 28/128\n",
            "375/375 [==============================] - 1s 2ms/step - loss: 0.3891\n",
            "Epoch 29/128\n",
            "375/375 [==============================] - 1s 2ms/step - loss: 0.3890\n",
            "Epoch 30/128\n",
            "375/375 [==============================] - 1s 2ms/step - loss: 0.3889\n",
            "Epoch 31/128\n",
            "375/375 [==============================] - 1s 2ms/step - loss: 0.3887\n",
            "Epoch 32/128\n",
            "375/375 [==============================] - 1s 2ms/step - loss: 0.3886\n",
            "Epoch 33/128\n",
            "375/375 [==============================] - 1s 2ms/step - loss: 0.3885\n",
            "Epoch 34/128\n",
            "375/375 [==============================] - 1s 2ms/step - loss: 0.3884\n",
            "Epoch 35/128\n",
            "375/375 [==============================] - 1s 1ms/step - loss: 0.3883\n",
            "Epoch 36/128\n",
            "375/375 [==============================] - 1s 2ms/step - loss: 0.3882\n",
            "Epoch 37/128\n",
            "375/375 [==============================] - 1s 2ms/step - loss: 0.3881\n",
            "Epoch 38/128\n",
            "375/375 [==============================] - 1s 3ms/step - loss: 0.3880\n",
            "Epoch 39/128\n",
            "297/375 [======================>.......] - ETA: 0s - loss: 0.3900"
          ]
        }
      ]
    }
  ]
}